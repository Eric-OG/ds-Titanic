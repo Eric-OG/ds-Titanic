{
 "metadata": {
  "language_info": {
   "codemirror_mode": {
    "name": "ipython",
    "version": 3
   },
   "file_extension": ".py",
   "mimetype": "text/x-python",
   "name": "python",
   "nbconvert_exporter": "python",
   "pygments_lexer": "ipython3",
   "version": "3.7.9-final"
  },
  "orig_nbformat": 2,
  "kernelspec": {
   "name": "python3",
   "display_name": "Python 3"
  }
 },
 "nbformat": 4,
 "nbformat_minor": 2,
 "cells": [
  {
   "source": [
    "# Titanic - Modelo\n",
    "\n",
    "texto texto texto"
   ],
   "cell_type": "markdown",
   "metadata": {}
  },
  {
   "cell_type": "code",
   "execution_count": 219,
   "metadata": {},
   "outputs": [],
   "source": [
    "import numpy as np\n",
    "import pandas as pd\n",
    "import seaborn as sns\n",
    "import matplotlib.pyplot as plt\n",
    "\n",
    "from pandas_profiling import ProfileReport\n",
    "\n",
    "from sklearn.metrics import accuracy_score\n",
    "from sklearn.naive_bayes import GaussianNB\n",
    "from sklearn.naive_bayes import CategoricalNB\n",
    "from sklearn.model_selection import GridSearchCV\n",
    "from sklearn.ensemble import RandomForestClassifier\n",
    "from sklearn.model_selection import train_test_split\n",
    "from sklearn.tree import DecisionTreeClassifier, plot_tree\n",
    "\n",
    "from feature_engine import categorical_encoders as ce\n",
    "\n",
    "plt.style.use(\"ggplot\")"
   ]
  },
  {
   "source": [
    "## Lê os dados"
   ],
   "cell_type": "markdown",
   "metadata": {}
  },
  {
   "cell_type": "code",
   "execution_count": 281,
   "metadata": {},
   "outputs": [
    {
     "output_type": "execute_result",
     "data": {
      "text/plain": [
       "     Survived  Pclass     Sex        Age  SibSp  Parch Cabin Embarked  difFare\n",
       "0           0       3    male  22.000000      1      0     U        S  -0.8000\n",
       "1           1       1  female  38.000000      1      0     C        C  10.9958\n",
       "2           1       3  female  26.000000      0      0     U        S  -0.1250\n",
       "3           1       1  female  35.000000      1      0     C        S  -7.1875\n",
       "4           0       3    male  35.000000      0      0     U        S   0.0000\n",
       "..        ...     ...     ...        ...    ...    ...   ...      ...      ...\n",
       "779         0       3  female  39.000000      0      5     U        Q  21.0750\n",
       "780         1       1  female  19.000000      0      0     B        S -30.2875\n",
       "781         0       3  female  30.626179      1      2     U        S  15.4000\n",
       "782         1       1    male  26.000000      0      0     C        C -30.2875\n",
       "783         0       3    male  32.000000      0      0     U        Q  -0.3000\n",
       "\n",
       "[784 rows x 9 columns]"
      ],
      "text/html": "<div>\n<style scoped>\n    .dataframe tbody tr th:only-of-type {\n        vertical-align: middle;\n    }\n\n    .dataframe tbody tr th {\n        vertical-align: top;\n    }\n\n    .dataframe thead th {\n        text-align: right;\n    }\n</style>\n<table border=\"1\" class=\"dataframe\">\n  <thead>\n    <tr style=\"text-align: right;\">\n      <th></th>\n      <th>Survived</th>\n      <th>Pclass</th>\n      <th>Sex</th>\n      <th>Age</th>\n      <th>SibSp</th>\n      <th>Parch</th>\n      <th>Cabin</th>\n      <th>Embarked</th>\n      <th>difFare</th>\n    </tr>\n  </thead>\n  <tbody>\n    <tr>\n      <th>0</th>\n      <td>0</td>\n      <td>3</td>\n      <td>male</td>\n      <td>22.000000</td>\n      <td>1</td>\n      <td>0</td>\n      <td>U</td>\n      <td>S</td>\n      <td>-0.8000</td>\n    </tr>\n    <tr>\n      <th>1</th>\n      <td>1</td>\n      <td>1</td>\n      <td>female</td>\n      <td>38.000000</td>\n      <td>1</td>\n      <td>0</td>\n      <td>C</td>\n      <td>C</td>\n      <td>10.9958</td>\n    </tr>\n    <tr>\n      <th>2</th>\n      <td>1</td>\n      <td>3</td>\n      <td>female</td>\n      <td>26.000000</td>\n      <td>0</td>\n      <td>0</td>\n      <td>U</td>\n      <td>S</td>\n      <td>-0.1250</td>\n    </tr>\n    <tr>\n      <th>3</th>\n      <td>1</td>\n      <td>1</td>\n      <td>female</td>\n      <td>35.000000</td>\n      <td>1</td>\n      <td>0</td>\n      <td>C</td>\n      <td>S</td>\n      <td>-7.1875</td>\n    </tr>\n    <tr>\n      <th>4</th>\n      <td>0</td>\n      <td>3</td>\n      <td>male</td>\n      <td>35.000000</td>\n      <td>0</td>\n      <td>0</td>\n      <td>U</td>\n      <td>S</td>\n      <td>0.0000</td>\n    </tr>\n    <tr>\n      <th>...</th>\n      <td>...</td>\n      <td>...</td>\n      <td>...</td>\n      <td>...</td>\n      <td>...</td>\n      <td>...</td>\n      <td>...</td>\n      <td>...</td>\n      <td>...</td>\n    </tr>\n    <tr>\n      <th>779</th>\n      <td>0</td>\n      <td>3</td>\n      <td>female</td>\n      <td>39.000000</td>\n      <td>0</td>\n      <td>5</td>\n      <td>U</td>\n      <td>Q</td>\n      <td>21.0750</td>\n    </tr>\n    <tr>\n      <th>780</th>\n      <td>1</td>\n      <td>1</td>\n      <td>female</td>\n      <td>19.000000</td>\n      <td>0</td>\n      <td>0</td>\n      <td>B</td>\n      <td>S</td>\n      <td>-30.2875</td>\n    </tr>\n    <tr>\n      <th>781</th>\n      <td>0</td>\n      <td>3</td>\n      <td>female</td>\n      <td>30.626179</td>\n      <td>1</td>\n      <td>2</td>\n      <td>U</td>\n      <td>S</td>\n      <td>15.4000</td>\n    </tr>\n    <tr>\n      <th>782</th>\n      <td>1</td>\n      <td>1</td>\n      <td>male</td>\n      <td>26.000000</td>\n      <td>0</td>\n      <td>0</td>\n      <td>C</td>\n      <td>C</td>\n      <td>-30.2875</td>\n    </tr>\n    <tr>\n      <th>783</th>\n      <td>0</td>\n      <td>3</td>\n      <td>male</td>\n      <td>32.000000</td>\n      <td>0</td>\n      <td>0</td>\n      <td>U</td>\n      <td>Q</td>\n      <td>-0.3000</td>\n    </tr>\n  </tbody>\n</table>\n<p>784 rows × 9 columns</p>\n</div>"
     },
     "metadata": {},
     "execution_count": 281
    }
   ],
   "source": [
    "data_train = pd.read_csv(\"data/train-tratado.csv\")\n",
    "# Removendo o atributo fare dada a sua alta correlação com o atributo difFare\n",
    "data_train = data_train.drop(\"Fare\", axis = 1)\n",
    "\n",
    "data_train"
   ]
  },
  {
   "cell_type": "code",
   "execution_count": 282,
   "metadata": {},
   "outputs": [
    {
     "output_type": "execute_result",
     "data": {
      "text/plain": [
       "     PassengerId  Pclass     Sex        Age  SibSp  Parch Cabin Embarked  \\\n",
       "0            892       3    male  34.500000      0      0     U        Q   \n",
       "1            893       3  female  47.000000      1      0     U        S   \n",
       "2            894       2    male  62.000000      0      0     U        Q   \n",
       "3            895       3    male  27.000000      0      0     U        S   \n",
       "4            896       3  female  22.000000      1      1     U        S   \n",
       "..           ...     ...     ...        ...    ...    ...   ...      ...   \n",
       "413         1305       3    male  29.858135      0      0     U        S   \n",
       "414         1306       1  female  39.000000      0      0     C        C   \n",
       "415         1307       3    male  38.500000      0      0     U        S   \n",
       "416         1308       3    male  29.858135      0      0     U        S   \n",
       "417         1309       3    male  29.858135      1      1     U        C   \n",
       "\n",
       "     difFare  \n",
       "0    -0.2208  \n",
       "1    -1.0500  \n",
       "2    -9.0625  \n",
       "3     0.6125  \n",
       "4     4.2375  \n",
       "..       ...  \n",
       "413   0.0000  \n",
       "414  48.6125  \n",
       "415  -0.8000  \n",
       "416   0.0000  \n",
       "417  14.3083  \n",
       "\n",
       "[418 rows x 9 columns]"
      ],
      "text/html": "<div>\n<style scoped>\n    .dataframe tbody tr th:only-of-type {\n        vertical-align: middle;\n    }\n\n    .dataframe tbody tr th {\n        vertical-align: top;\n    }\n\n    .dataframe thead th {\n        text-align: right;\n    }\n</style>\n<table border=\"1\" class=\"dataframe\">\n  <thead>\n    <tr style=\"text-align: right;\">\n      <th></th>\n      <th>PassengerId</th>\n      <th>Pclass</th>\n      <th>Sex</th>\n      <th>Age</th>\n      <th>SibSp</th>\n      <th>Parch</th>\n      <th>Cabin</th>\n      <th>Embarked</th>\n      <th>difFare</th>\n    </tr>\n  </thead>\n  <tbody>\n    <tr>\n      <th>0</th>\n      <td>892</td>\n      <td>3</td>\n      <td>male</td>\n      <td>34.500000</td>\n      <td>0</td>\n      <td>0</td>\n      <td>U</td>\n      <td>Q</td>\n      <td>-0.2208</td>\n    </tr>\n    <tr>\n      <th>1</th>\n      <td>893</td>\n      <td>3</td>\n      <td>female</td>\n      <td>47.000000</td>\n      <td>1</td>\n      <td>0</td>\n      <td>U</td>\n      <td>S</td>\n      <td>-1.0500</td>\n    </tr>\n    <tr>\n      <th>2</th>\n      <td>894</td>\n      <td>2</td>\n      <td>male</td>\n      <td>62.000000</td>\n      <td>0</td>\n      <td>0</td>\n      <td>U</td>\n      <td>Q</td>\n      <td>-9.0625</td>\n    </tr>\n    <tr>\n      <th>3</th>\n      <td>895</td>\n      <td>3</td>\n      <td>male</td>\n      <td>27.000000</td>\n      <td>0</td>\n      <td>0</td>\n      <td>U</td>\n      <td>S</td>\n      <td>0.6125</td>\n    </tr>\n    <tr>\n      <th>4</th>\n      <td>896</td>\n      <td>3</td>\n      <td>female</td>\n      <td>22.000000</td>\n      <td>1</td>\n      <td>1</td>\n      <td>U</td>\n      <td>S</td>\n      <td>4.2375</td>\n    </tr>\n    <tr>\n      <th>...</th>\n      <td>...</td>\n      <td>...</td>\n      <td>...</td>\n      <td>...</td>\n      <td>...</td>\n      <td>...</td>\n      <td>...</td>\n      <td>...</td>\n      <td>...</td>\n    </tr>\n    <tr>\n      <th>413</th>\n      <td>1305</td>\n      <td>3</td>\n      <td>male</td>\n      <td>29.858135</td>\n      <td>0</td>\n      <td>0</td>\n      <td>U</td>\n      <td>S</td>\n      <td>0.0000</td>\n    </tr>\n    <tr>\n      <th>414</th>\n      <td>1306</td>\n      <td>1</td>\n      <td>female</td>\n      <td>39.000000</td>\n      <td>0</td>\n      <td>0</td>\n      <td>C</td>\n      <td>C</td>\n      <td>48.6125</td>\n    </tr>\n    <tr>\n      <th>415</th>\n      <td>1307</td>\n      <td>3</td>\n      <td>male</td>\n      <td>38.500000</td>\n      <td>0</td>\n      <td>0</td>\n      <td>U</td>\n      <td>S</td>\n      <td>-0.8000</td>\n    </tr>\n    <tr>\n      <th>416</th>\n      <td>1308</td>\n      <td>3</td>\n      <td>male</td>\n      <td>29.858135</td>\n      <td>0</td>\n      <td>0</td>\n      <td>U</td>\n      <td>S</td>\n      <td>0.0000</td>\n    </tr>\n    <tr>\n      <th>417</th>\n      <td>1309</td>\n      <td>3</td>\n      <td>male</td>\n      <td>29.858135</td>\n      <td>1</td>\n      <td>1</td>\n      <td>U</td>\n      <td>C</td>\n      <td>14.3083</td>\n    </tr>\n  </tbody>\n</table>\n<p>418 rows × 9 columns</p>\n</div>"
     },
     "metadata": {},
     "execution_count": 282
    }
   ],
   "source": [
    "data_teste = pd.read_csv(\"data/teste-tratado.csv\")\n",
    "data_teste = data_teste.drop(\"Fare\", axis = 1)\n",
    "\n",
    "data_teste"
   ]
  },
  {
   "cell_type": "code",
   "execution_count": 283,
   "metadata": {},
   "outputs": [
    {
     "output_type": "execute_result",
     "data": {
      "text/plain": [
       "Index(['Survived', 'Pclass', 'Sex', 'Age', 'SibSp', 'Parch', 'Cabin',\n",
       "       'Embarked', 'difFare'],\n",
       "      dtype='object')"
      ]
     },
     "metadata": {},
     "execution_count": 283
    }
   ],
   "source": [
    "data_train.columns"
   ]
  },
  {
   "cell_type": "code",
   "execution_count": 284,
   "metadata": {},
   "outputs": [],
   "source": [
    "atributos_categoricos = [\"Pclass\", \"Sex\", \"Parch\", \"SibSp\", \"Cabin\", \"Embarked\"]\n",
    "\n",
    "for atributo in atributos_categoricos:\n",
    "    data_train[atributo] = data_train[atributo].astype(\"O\")\n",
    "    data_teste[atributo] = data_teste[atributo].astype(\"O\")"
   ]
  },
  {
   "cell_type": "code",
   "execution_count": 285,
   "metadata": {},
   "outputs": [
    {
     "output_type": "stream",
     "name": "stdout",
     "text": [
      "<class 'pandas.core.frame.DataFrame'>\nRangeIndex: 784 entries, 0 to 783\nData columns (total 9 columns):\n #   Column    Non-Null Count  Dtype  \n---  ------    --------------  -----  \n 0   Survived  784 non-null    int64  \n 1   Pclass    784 non-null    object \n 2   Sex       784 non-null    object \n 3   Age       784 non-null    float64\n 4   SibSp     784 non-null    object \n 5   Parch     784 non-null    object \n 6   Cabin     784 non-null    object \n 7   Embarked  784 non-null    object \n 8   difFare   784 non-null    float64\ndtypes: float64(2), int64(1), object(6)\nmemory usage: 55.2+ KB\n"
     ]
    }
   ],
   "source": [
    "data_train.info()"
   ]
  },
  {
   "cell_type": "code",
   "execution_count": 286,
   "metadata": {},
   "outputs": [],
   "source": [
    "atributos_continuos = [\"Age\", \"Fare\", \"difFare\"]"
   ]
  },
  {
   "source": [
    "## Separação no conjunto de treino para testar o modelo"
   ],
   "cell_type": "markdown",
   "metadata": {}
  },
  {
   "cell_type": "code",
   "execution_count": 287,
   "metadata": {},
   "outputs": [],
   "source": [
    "X_train = data_train.drop(\"Survived\", axis = 1)\n",
    "y_train = data_train[\"Survived\"]"
   ]
  },
  {
   "source": [
    "## Aplicando o `frequency enconder` nos atributos categóricos"
   ],
   "cell_type": "markdown",
   "metadata": {}
  },
  {
   "cell_type": "code",
   "execution_count": 288,
   "metadata": {},
   "outputs": [
    {
     "output_type": "execute_result",
     "data": {
      "text/plain": [
       "CountFrequencyCategoricalEncoder(encoding_method='frequency',\n",
       "                                 variables=['Pclass', 'Sex', 'Parch', 'SibSp',\n",
       "                                            'Cabin', 'Embarked'])"
      ]
     },
     "metadata": {},
     "execution_count": 288
    }
   ],
   "source": [
    "encoder = ce.CountFrequencyCategoricalEncoder(encoding_method = \"frequency\", variables = atributos_categoricos)\n",
    "\n",
    "encoder"
   ]
  },
  {
   "cell_type": "code",
   "execution_count": 289,
   "metadata": {},
   "outputs": [
    {
     "output_type": "execute_result",
     "data": {
      "text/plain": [
       "CountFrequencyCategoricalEncoder(encoding_method='frequency',\n",
       "                                 variables=['Pclass', 'Sex', 'Parch', 'SibSp',\n",
       "                                            'Cabin', 'Embarked'])"
      ]
     },
     "metadata": {},
     "execution_count": 289
    }
   ],
   "source": [
    "encoder.fit(X_train)"
   ]
  },
  {
   "cell_type": "code",
   "execution_count": 290,
   "metadata": {},
   "outputs": [],
   "source": [
    "# Dados com enconder\n",
    "\n",
    "train_t = encoder.transform(X_train)"
   ]
  },
  {
   "cell_type": "code",
   "execution_count": 291,
   "metadata": {},
   "outputs": [
    {
     "output_type": "execute_result",
     "data": {
      "text/plain": [
       "       Pclass       Sex        Age     SibSp     Parch     Cabin  Embarked  \\\n",
       "0    0.516582  0.626276  22.000000  0.256378  0.739796  0.741071  0.727041   \n",
       "1    0.272959  0.373724  38.000000  0.256378  0.739796  0.075255  0.197704   \n",
       "2    0.516582  0.373724  26.000000  0.659439  0.739796  0.741071  0.727041   \n",
       "3    0.272959  0.373724  35.000000  0.256378  0.739796  0.075255  0.727041   \n",
       "4    0.516582  0.626276  35.000000  0.659439  0.739796  0.741071  0.727041   \n",
       "..        ...       ...        ...       ...       ...       ...       ...   \n",
       "779  0.516582  0.373724  39.000000  0.659439  0.006378  0.741071  0.075255   \n",
       "780  0.272959  0.373724  19.000000  0.659439  0.739796  0.058673  0.727041   \n",
       "781  0.516582  0.373724  30.626179  0.256378  0.095663  0.741071  0.727041   \n",
       "782  0.272959  0.626276  26.000000  0.659439  0.739796  0.075255  0.197704   \n",
       "783  0.516582  0.626276  32.000000  0.659439  0.739796  0.741071  0.075255   \n",
       "\n",
       "     difFare  \n",
       "0    -0.8000  \n",
       "1    10.9958  \n",
       "2    -0.1250  \n",
       "3    -7.1875  \n",
       "4     0.0000  \n",
       "..       ...  \n",
       "779  21.0750  \n",
       "780 -30.2875  \n",
       "781  15.4000  \n",
       "782 -30.2875  \n",
       "783  -0.3000  \n",
       "\n",
       "[784 rows x 8 columns]"
      ],
      "text/html": "<div>\n<style scoped>\n    .dataframe tbody tr th:only-of-type {\n        vertical-align: middle;\n    }\n\n    .dataframe tbody tr th {\n        vertical-align: top;\n    }\n\n    .dataframe thead th {\n        text-align: right;\n    }\n</style>\n<table border=\"1\" class=\"dataframe\">\n  <thead>\n    <tr style=\"text-align: right;\">\n      <th></th>\n      <th>Pclass</th>\n      <th>Sex</th>\n      <th>Age</th>\n      <th>SibSp</th>\n      <th>Parch</th>\n      <th>Cabin</th>\n      <th>Embarked</th>\n      <th>difFare</th>\n    </tr>\n  </thead>\n  <tbody>\n    <tr>\n      <th>0</th>\n      <td>0.516582</td>\n      <td>0.626276</td>\n      <td>22.000000</td>\n      <td>0.256378</td>\n      <td>0.739796</td>\n      <td>0.741071</td>\n      <td>0.727041</td>\n      <td>-0.8000</td>\n    </tr>\n    <tr>\n      <th>1</th>\n      <td>0.272959</td>\n      <td>0.373724</td>\n      <td>38.000000</td>\n      <td>0.256378</td>\n      <td>0.739796</td>\n      <td>0.075255</td>\n      <td>0.197704</td>\n      <td>10.9958</td>\n    </tr>\n    <tr>\n      <th>2</th>\n      <td>0.516582</td>\n      <td>0.373724</td>\n      <td>26.000000</td>\n      <td>0.659439</td>\n      <td>0.739796</td>\n      <td>0.741071</td>\n      <td>0.727041</td>\n      <td>-0.1250</td>\n    </tr>\n    <tr>\n      <th>3</th>\n      <td>0.272959</td>\n      <td>0.373724</td>\n      <td>35.000000</td>\n      <td>0.256378</td>\n      <td>0.739796</td>\n      <td>0.075255</td>\n      <td>0.727041</td>\n      <td>-7.1875</td>\n    </tr>\n    <tr>\n      <th>4</th>\n      <td>0.516582</td>\n      <td>0.626276</td>\n      <td>35.000000</td>\n      <td>0.659439</td>\n      <td>0.739796</td>\n      <td>0.741071</td>\n      <td>0.727041</td>\n      <td>0.0000</td>\n    </tr>\n    <tr>\n      <th>...</th>\n      <td>...</td>\n      <td>...</td>\n      <td>...</td>\n      <td>...</td>\n      <td>...</td>\n      <td>...</td>\n      <td>...</td>\n      <td>...</td>\n    </tr>\n    <tr>\n      <th>779</th>\n      <td>0.516582</td>\n      <td>0.373724</td>\n      <td>39.000000</td>\n      <td>0.659439</td>\n      <td>0.006378</td>\n      <td>0.741071</td>\n      <td>0.075255</td>\n      <td>21.0750</td>\n    </tr>\n    <tr>\n      <th>780</th>\n      <td>0.272959</td>\n      <td>0.373724</td>\n      <td>19.000000</td>\n      <td>0.659439</td>\n      <td>0.739796</td>\n      <td>0.058673</td>\n      <td>0.727041</td>\n      <td>-30.2875</td>\n    </tr>\n    <tr>\n      <th>781</th>\n      <td>0.516582</td>\n      <td>0.373724</td>\n      <td>30.626179</td>\n      <td>0.256378</td>\n      <td>0.095663</td>\n      <td>0.741071</td>\n      <td>0.727041</td>\n      <td>15.4000</td>\n    </tr>\n    <tr>\n      <th>782</th>\n      <td>0.272959</td>\n      <td>0.626276</td>\n      <td>26.000000</td>\n      <td>0.659439</td>\n      <td>0.739796</td>\n      <td>0.075255</td>\n      <td>0.197704</td>\n      <td>-30.2875</td>\n    </tr>\n    <tr>\n      <th>783</th>\n      <td>0.516582</td>\n      <td>0.626276</td>\n      <td>32.000000</td>\n      <td>0.659439</td>\n      <td>0.739796</td>\n      <td>0.741071</td>\n      <td>0.075255</td>\n      <td>-0.3000</td>\n    </tr>\n  </tbody>\n</table>\n<p>784 rows × 8 columns</p>\n</div>"
     },
     "metadata": {},
     "execution_count": 291
    }
   ],
   "source": [
    "train_t.sort_index()"
   ]
  },
  {
   "cell_type": "code",
   "execution_count": 292,
   "metadata": {},
   "outputs": [
    {
     "output_type": "execute_result",
     "data": {
      "text/plain": [
       "{'Pclass': {3: 0.5165816326530612,\n",
       "  1: 0.2729591836734694,\n",
       "  2: 0.21045918367346939},\n",
       " 'Sex': {'male': 0.6262755102040817, 'female': 0.3737244897959184},\n",
       " 'Parch': {0: 0.7397959183673469,\n",
       "  1: 0.14540816326530612,\n",
       "  2: 0.09566326530612244,\n",
       "  5: 0.006377551020408163,\n",
       "  3: 0.006377551020408163,\n",
       "  4: 0.00510204081632653,\n",
       "  6: 0.0012755102040816326},\n",
       " 'SibSp': {0: 0.6594387755102041,\n",
       "  1: 0.25637755102040816,\n",
       "  2: 0.03443877551020408,\n",
       "  4: 0.02295918367346939,\n",
       "  3: 0.017857142857142856,\n",
       "  5: 0.006377551020408163,\n",
       "  8: 0.002551020408163265},\n",
       " 'Cabin': {'U': 0.7410714285714286,\n",
       "  'C': 0.07525510204081633,\n",
       "  'B': 0.058673469387755105,\n",
       "  'D': 0.042091836734693876,\n",
       "  'E': 0.04081632653061224,\n",
       "  'A': 0.01913265306122449,\n",
       "  'F': 0.016581632653061226,\n",
       "  'G': 0.00510204081632653,\n",
       "  'T': 0.0012755102040816326},\n",
       " 'Embarked': {'S': 0.7270408163265306,\n",
       "  'C': 0.19770408163265307,\n",
       "  'Q': 0.07525510204081633}}"
      ]
     },
     "metadata": {},
     "execution_count": 292
    }
   ],
   "source": [
    "encoder.encoder_dict_"
   ]
  },
  {
   "source": [
    "## Naive Bayes Heterogêneo"
   ],
   "cell_type": "markdown",
   "metadata": {}
  },
  {
   "source": [
    "## Decision Tree"
   ],
   "cell_type": "markdown",
   "metadata": {}
  },
  {
   "source": [
    "## Random Forest"
   ],
   "cell_type": "markdown",
   "metadata": {}
  },
  {
   "cell_type": "code",
   "execution_count": 293,
   "metadata": {},
   "outputs": [],
   "source": [
    "rnd_forest = RandomForestClassifier(random_state = 2)\n",
    "\n",
    "param_grid = { \n",
    "    'n_estimators': [200, 500],\n",
    "    'max_features': ['auto', 'sqrt', 'log2'],\n",
    "    'max_depth' : [4, 5, 6, 7, 8, 10],\n",
    "    'criterion' :['gini', 'entropy']\n",
    "}\n",
    "\n",
    "CV_rndf = GridSearchCV(estimator = rnd_forest, param_grid = param_grid, cv = 5)"
   ]
  },
  {
   "cell_type": "code",
   "execution_count": 294,
   "metadata": {},
   "outputs": [
    {
     "output_type": "execute_result",
     "data": {
      "text/plain": [
       "GridSearchCV(cv=5, estimator=RandomForestClassifier(random_state=2),\n",
       "             param_grid={'criterion': ['gini', 'entropy'],\n",
       "                         'max_depth': [4, 5, 6, 7, 8, 10],\n",
       "                         'max_features': ['auto', 'sqrt', 'log2'],\n",
       "                         'n_estimators': [200, 500]})"
      ]
     },
     "metadata": {},
     "execution_count": 294
    }
   ],
   "source": [
    "CV_rndf.fit(train_t, y_train)"
   ]
  },
  {
   "cell_type": "code",
   "execution_count": 295,
   "metadata": {},
   "outputs": [
    {
     "output_type": "execute_result",
     "data": {
      "text/plain": [
       "{'criterion': 'entropy',\n",
       " 'max_depth': 6,\n",
       " 'max_features': 'log2',\n",
       " 'n_estimators': 200}"
      ]
     },
     "metadata": {},
     "execution_count": 295
    }
   ],
   "source": [
    "CV_rndf.best_params_"
   ]
  },
  {
   "source": [
    "## Aplicando o melhor modelo encontrando em todo o conjunto de treino"
   ],
   "cell_type": "markdown",
   "metadata": {}
  },
  {
   "cell_type": "code",
   "execution_count": 296,
   "metadata": {},
   "outputs": [],
   "source": [
    "# Separa o conjunto de dados\n",
    "\n",
    "X_train = data_train.drop(\"Survived\", axis = 1)\n",
    "X_test = data_teste.drop(\"PassengerId\", axis = 1)\n",
    "y_train = data_train[\"Survived\"]"
   ]
  },
  {
   "cell_type": "code",
   "execution_count": 297,
   "metadata": {},
   "outputs": [],
   "source": [
    "# Aplica o enconder\n",
    "\n",
    "encoder = ce.CountFrequencyCategoricalEncoder(encoding_method = \"frequency\", variables = atributos_categoricos)\n",
    "encoder.fit(X_train)\n",
    "\n",
    "# Dados com enconder\n",
    "\n",
    "train_t = encoder.transform(X_train)\n",
    "test_t = encoder.transform(X_test)"
   ]
  },
  {
   "cell_type": "code",
   "execution_count": 298,
   "metadata": {},
   "outputs": [
    {
     "output_type": "execute_result",
     "data": {
      "text/plain": [
       "RandomForestClassifier(criterion='entropy', max_depth=6, max_features='log2',\n",
       "                       n_estimators=200, random_state=2)"
      ]
     },
     "metadata": {},
     "execution_count": 298
    }
   ],
   "source": [
    "rnd_forest = RandomForestClassifier(random_state = 2, n_estimators = 200, criterion = \"entropy\", max_depth = 6, max_features = \"log2\")\n",
    "rnd_forest = rnd_forest.fit(train_t, y_train)\n",
    "\n",
    "rnd_forest"
   ]
  },
  {
   "cell_type": "code",
   "execution_count": 299,
   "metadata": {},
   "outputs": [
    {
     "output_type": "execute_result",
     "data": {
      "text/plain": [
       "(array([342, 365]), array([4, 4]))"
      ]
     },
     "metadata": {},
     "execution_count": 299
    }
   ],
   "source": [
    "np.where(np.isnan(test_t.to_numpy()))"
   ]
  },
  {
   "cell_type": "code",
   "execution_count": 300,
   "metadata": {},
   "outputs": [
    {
     "output_type": "execute_result",
     "data": {
      "text/plain": [
       "Pclass       0.516582\n",
       "Sex          0.626276\n",
       "Age         29.858135\n",
       "SibSp        0.256378\n",
       "Parch             NaN\n",
       "Cabin        0.741071\n",
       "Embarked     0.727041\n",
       "difFare     61.500000\n",
       "Name: 342, dtype: float64"
      ]
     },
     "metadata": {},
     "execution_count": 300
    }
   ],
   "source": [
    "test_t.iloc[342]"
   ]
  },
  {
   "cell_type": "code",
   "execution_count": 301,
   "metadata": {},
   "outputs": [],
   "source": [
    "predictions = rnd_forest.predict(test_t.fillna(0))\n"
   ]
  },
  {
   "cell_type": "code",
   "execution_count": 302,
   "metadata": {},
   "outputs": [
    {
     "output_type": "execute_result",
     "data": {
      "text/plain": [
       "     PassengerId Pclass     Sex        Age SibSp Parch Cabin Embarked  \\\n",
       "0            892      3    male  34.500000     0     0     U        Q   \n",
       "1            893      3  female  47.000000     1     0     U        S   \n",
       "2            894      2    male  62.000000     0     0     U        Q   \n",
       "3            895      3    male  27.000000     0     0     U        S   \n",
       "4            896      3  female  22.000000     1     1     U        S   \n",
       "..           ...    ...     ...        ...   ...   ...   ...      ...   \n",
       "413         1305      3    male  29.858135     0     0     U        S   \n",
       "414         1306      1  female  39.000000     0     0     C        C   \n",
       "415         1307      3    male  38.500000     0     0     U        S   \n",
       "416         1308      3    male  29.858135     0     0     U        S   \n",
       "417         1309      3    male  29.858135     1     1     U        C   \n",
       "\n",
       "     difFare  Survived  \n",
       "0    -0.2208         0  \n",
       "1    -1.0500         0  \n",
       "2    -9.0625         0  \n",
       "3     0.6125         0  \n",
       "4     4.2375         0  \n",
       "..       ...       ...  \n",
       "413   0.0000         0  \n",
       "414  48.6125         1  \n",
       "415  -0.8000         0  \n",
       "416   0.0000         0  \n",
       "417  14.3083         0  \n",
       "\n",
       "[418 rows x 10 columns]"
      ],
      "text/html": "<div>\n<style scoped>\n    .dataframe tbody tr th:only-of-type {\n        vertical-align: middle;\n    }\n\n    .dataframe tbody tr th {\n        vertical-align: top;\n    }\n\n    .dataframe thead th {\n        text-align: right;\n    }\n</style>\n<table border=\"1\" class=\"dataframe\">\n  <thead>\n    <tr style=\"text-align: right;\">\n      <th></th>\n      <th>PassengerId</th>\n      <th>Pclass</th>\n      <th>Sex</th>\n      <th>Age</th>\n      <th>SibSp</th>\n      <th>Parch</th>\n      <th>Cabin</th>\n      <th>Embarked</th>\n      <th>difFare</th>\n      <th>Survived</th>\n    </tr>\n  </thead>\n  <tbody>\n    <tr>\n      <th>0</th>\n      <td>892</td>\n      <td>3</td>\n      <td>male</td>\n      <td>34.500000</td>\n      <td>0</td>\n      <td>0</td>\n      <td>U</td>\n      <td>Q</td>\n      <td>-0.2208</td>\n      <td>0</td>\n    </tr>\n    <tr>\n      <th>1</th>\n      <td>893</td>\n      <td>3</td>\n      <td>female</td>\n      <td>47.000000</td>\n      <td>1</td>\n      <td>0</td>\n      <td>U</td>\n      <td>S</td>\n      <td>-1.0500</td>\n      <td>0</td>\n    </tr>\n    <tr>\n      <th>2</th>\n      <td>894</td>\n      <td>2</td>\n      <td>male</td>\n      <td>62.000000</td>\n      <td>0</td>\n      <td>0</td>\n      <td>U</td>\n      <td>Q</td>\n      <td>-9.0625</td>\n      <td>0</td>\n    </tr>\n    <tr>\n      <th>3</th>\n      <td>895</td>\n      <td>3</td>\n      <td>male</td>\n      <td>27.000000</td>\n      <td>0</td>\n      <td>0</td>\n      <td>U</td>\n      <td>S</td>\n      <td>0.6125</td>\n      <td>0</td>\n    </tr>\n    <tr>\n      <th>4</th>\n      <td>896</td>\n      <td>3</td>\n      <td>female</td>\n      <td>22.000000</td>\n      <td>1</td>\n      <td>1</td>\n      <td>U</td>\n      <td>S</td>\n      <td>4.2375</td>\n      <td>0</td>\n    </tr>\n    <tr>\n      <th>...</th>\n      <td>...</td>\n      <td>...</td>\n      <td>...</td>\n      <td>...</td>\n      <td>...</td>\n      <td>...</td>\n      <td>...</td>\n      <td>...</td>\n      <td>...</td>\n      <td>...</td>\n    </tr>\n    <tr>\n      <th>413</th>\n      <td>1305</td>\n      <td>3</td>\n      <td>male</td>\n      <td>29.858135</td>\n      <td>0</td>\n      <td>0</td>\n      <td>U</td>\n      <td>S</td>\n      <td>0.0000</td>\n      <td>0</td>\n    </tr>\n    <tr>\n      <th>414</th>\n      <td>1306</td>\n      <td>1</td>\n      <td>female</td>\n      <td>39.000000</td>\n      <td>0</td>\n      <td>0</td>\n      <td>C</td>\n      <td>C</td>\n      <td>48.6125</td>\n      <td>1</td>\n    </tr>\n    <tr>\n      <th>415</th>\n      <td>1307</td>\n      <td>3</td>\n      <td>male</td>\n      <td>38.500000</td>\n      <td>0</td>\n      <td>0</td>\n      <td>U</td>\n      <td>S</td>\n      <td>-0.8000</td>\n      <td>0</td>\n    </tr>\n    <tr>\n      <th>416</th>\n      <td>1308</td>\n      <td>3</td>\n      <td>male</td>\n      <td>29.858135</td>\n      <td>0</td>\n      <td>0</td>\n      <td>U</td>\n      <td>S</td>\n      <td>0.0000</td>\n      <td>0</td>\n    </tr>\n    <tr>\n      <th>417</th>\n      <td>1309</td>\n      <td>3</td>\n      <td>male</td>\n      <td>29.858135</td>\n      <td>1</td>\n      <td>1</td>\n      <td>U</td>\n      <td>C</td>\n      <td>14.3083</td>\n      <td>0</td>\n    </tr>\n  </tbody>\n</table>\n<p>418 rows × 10 columns</p>\n</div>"
     },
     "metadata": {},
     "execution_count": 302
    }
   ],
   "source": [
    "data_teste_pred = data_teste.copy()\n",
    "data_teste_pred[\"Survived\"] = predictions\n",
    "\n",
    "data_teste_pred"
   ]
  },
  {
   "cell_type": "code",
   "execution_count": 303,
   "metadata": {},
   "outputs": [],
   "source": [
    "kaggle_file = data_teste_pred[[\"PassengerId\", \"Survived\"]]\n",
    "\n",
    "kaggle_file.to_csv(\"data/kaggle.csv\", index = False)"
   ]
  }
 ]
}